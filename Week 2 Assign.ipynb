{
 "cells": [
  {
   "cell_type": "raw",
   "id": "f1298733-0f08-427a-b5b8-5ddd1d492d63",
   "metadata": {},
   "source": [
    "Q1. How do you comment code in Python? What are the different types of comments?\n",
    "Q2. What are variables in Python? How do you declare and assign values to variables?\n",
    "Q3. How do you convert one data type to another in Python?\n",
    "Q4. How do you write and execute a Python script from the command line?\n",
    "Q5. Given a list my_list = [1, 2, 3, 4, 5], write the code to slice the list and obtain the sub-list [2, 3].\n",
    "Q6. What is a complex number in mathematics, and how is it represented in Python?\n",
    "Q7. What is the correct way to declare a variable named age and assign the value 25 to it?\n",
    "Q8. Declare a variable named price and assign the value 9.99 to it. What data type does this variable\n",
    "belong to?\n",
    "Q9. Create a variable named name and assign your full name to it as a string. How would you print the\n",
    "value of this variable?\n",
    "Q10. Given the string \"Hello, World!\", extract the substring \"World\".\n",
    "Q11. Create a variable named \"is_student\" and assign it a boolean value indicating whether you are\n",
    "currently a student or not. "
   ]
  },
  {
   "cell_type": "markdown",
   "id": "cc15e79c-238b-4ef2-b5f0-41303b2e7088",
   "metadata": {},
   "source": [
    "Q1. How do you comment code in Python? What are the different types of comments?"
   ]
  },
  {
   "cell_type": "code",
   "execution_count": 1,
   "id": "c96e3333-5fb7-4bc5-830a-3766bf780644",
   "metadata": {},
   "outputs": [
    {
     "data": {
      "text/plain": [
       "\"\\n    2. Multi line comment:\\n        Multi line comments are written between triple quotes, you can use single or double quotes for this\\n        \\n        Note that in Multi line comments, if you are writting only a multi line comment in a single cell, the system will generate an output.\\n        However, this output won't behave exactly like a code\\n\""
      ]
     },
     "execution_count": 1,
     "metadata": {},
     "output_type": "execute_result"
    }
   ],
   "source": [
    "# Comment:\n",
    "#     A comment is a facility that programmming languages provide to their users to write something descriptive about the code.\n",
    "#     A comment is just for the user and the interpreter doesn't execute that line of code.\n",
    "    \n",
    "# Different types of comments in Python:\n",
    "#     In Python, there are mainly two types of comments\n",
    "#     1. Single line comment\n",
    "#     2. Multi line comment\n",
    "    \n",
    "#     1. Single line comment:\n",
    "#         Single line comments are initiated by a hash symbol (#) and everything written after this hash will be treated as a comment\n",
    "#         You can also use a shortcut \"Ctrl\" + \"/\" if you want to comment number of lines using single line comment\n",
    "\n",
    "\"\"\"\n",
    "    2. Multi line comment:\n",
    "        Multi line comments are written between triple quotes, you can use single or double quotes for this\n",
    "        \n",
    "        Note that in Multi line comments, if you are writting only a multi line comment in a single cell, the system will generate an output.\n",
    "        However, this output won't behave exactly like a code\n",
    "\"\"\"      \n"
   ]
  },
  {
   "cell_type": "code",
   "execution_count": 2,
   "id": "26da9323-d565-47ac-aa83-1f439fe2124e",
   "metadata": {},
   "outputs": [],
   "source": [
    "'''\n",
    "However, if there is some actual code in a particular cell after some multi line comments,\n",
    "The system will execute the code and will not show any outout reagrding the multi line comment\n",
    "For example:\n",
    "\n",
    "'''\n",
    "pass\n",
    "\n",
    "# Here, we can clearly see that the system recognizes all these lines as multi line comment and does not give any output for the same"
   ]
  },
  {
   "cell_type": "markdown",
   "id": "af8fb0ba-8add-4850-823f-d41e5fdc14e4",
   "metadata": {},
   "source": [
    "Q2. What are variables in Python? How do you declare and assign values to variables? "
   ]
  },
  {
   "cell_type": "code",
   "execution_count": 3,
   "id": "fea7cde3-4a08-48d2-89f6-d670b83fdd0a",
   "metadata": {},
   "outputs": [],
   "source": [
    "'''\n",
    "Variables:\n",
    "    Variables can be defined as a container that stores some data or information inside system memory\n",
    "    Variables can be called directly with their names and the system will fetch the data stored inside that variable\n",
    "\n",
    "Certain rules for nomenclature of variables:\n",
    "\n",
    "    1. \n",
    "    While assigning a name to a variable, there is a general practice to assign variable name that resembles or is relevant to the stored data in it,\n",
    "    For example: If you want to store Contact Number, you'll genrally use 'phone' as a variable name \n",
    "    These type of conentions help people to collectively understand the code and data.\n",
    "    \n",
    "    2. \n",
    "    You cannot use any special characters [!,@,#,$,%,etc] while creating a variable \n",
    "    \n",
    "    3.\n",
    "    You cannot create a variable that starts with a number, however you can add number in betwwen on in end of a variable\n",
    "    Example: '1name' will not work, but 'name1' will work\n",
    "\n",
    "Syntax:\n",
    "    You can assign a value to a variable by using the following syntax:\n",
    "        variable name = value\n",
    "    Here, the = sign means that we are assigning a particular value to this variable\n",
    "\n",
    "'''                   \n",
    "#Example:\n",
    "first_name = 'Sanket'"
   ]
  },
  {
   "cell_type": "code",
   "execution_count": 4,
   "id": "eb32c84c-dbb4-488d-b6b0-d6bbf00f3dca",
   "metadata": {},
   "outputs": [
    {
     "data": {
      "text/plain": [
       "'Sanket'"
      ]
     },
     "execution_count": 4,
     "metadata": {},
     "output_type": "execute_result"
    }
   ],
   "source": [
    "# Now if you want to fetch the data stored inside the first_name variable, you just need to call the variable\n",
    "first_name"
   ]
  },
  {
   "cell_type": "markdown",
   "id": "6d16691f-44cb-4f12-b0a0-b5e5eed11692",
   "metadata": {},
   "source": [
    "Q3. How do you convert one data type to another in Python? "
   ]
  },
  {
   "cell_type": "code",
   "execution_count": 5,
   "id": "38e5edef-58a3-484b-bc8f-481d2cbddb22",
   "metadata": {},
   "outputs": [
    {
     "name": "stdout",
     "output_type": "stream",
     "text": [
      "-------------------------------------------------------\n",
      "Datatype before typecasting : <class 'int'>\n",
      "Datatype after typecasting  : <class 'str'>\n",
      "-------------------------------------------------------\n"
     ]
    }
   ],
   "source": [
    "'''\n",
    "Converting onr data type to another is known as typecasting.\n",
    "You can typecast one data into other by using the following syntax\n",
    "\n",
    "Syntax:\n",
    "    new_datatype(existing_datatype)\n",
    "    \n",
    "'''\n",
    "# Example:\n",
    "print('-'*55)\n",
    "age = 23\n",
    "print('Datatype before typecasting :',type(age))\n",
    "\n",
    "# You can see the age variable is having int datatype\n",
    "# Now to change it to string we can write\n",
    "\n",
    "age = str(age)\n",
    "print('Datatype after typecasting  :',type(age))\n",
    "print('-'*55)"
   ]
  },
  {
   "cell_type": "markdown",
   "id": "bd50e533-b002-458b-a5a0-5a80214a1fe4",
   "metadata": {},
   "source": [
    "Q4. How do you write and execute a Python script from the command line?"
   ]
  },
  {
   "cell_type": "code",
   "execution_count": 2,
   "id": "7946932c-a958-4ea9-8ec9-d12fbfd70554",
   "metadata": {},
   "outputs": [],
   "source": [
    "'''\n",
    "You can make a Python script and excute it in command line by following given steps:\n",
    "    \n",
    "1. Install Python in your sysytem by going to 'www.python.org'.\n",
    "2. After you are done installing python in your system, you can go to any text editor to write a simple line of code, say print('Hello World').\n",
    "3. Save this file in your suitable drive in '.py' extension. \n",
    "    --> For Example: hello.py\n",
    "4. Then to execute this line of code in your system (Here, Windows), open command prompt.\n",
    "5. You will see your system drive and name of your pc, once command prompt is opened.\n",
    "6. Then to verify if Python is installed in your system write 'python'.\n",
    "7. If python is successfully installed in your system, you'll be able to see three arrows '>>>' that indicates that you are now in python.\n",
    "8. Now you can exit python by writing exit().\n",
    "9. Now to run your python script, go to the location where you have saved your .py file by writing cd File location.\n",
    "    --> For Example: cd Desktop (I saved my file in Desktop)\n",
    "10. Once you reach the file location, you can now write 'python filename.py'.\n",
    "    --> For Example: python hello.py\n",
    "11. As sson as you write this line and press Enter, you'll be able to see your program's Output.\n",
    "12. So here we will bea ble to see Hello World.\n",
    "'''\n",
    "pass"
   ]
  },
  {
   "cell_type": "markdown",
   "id": "54f2d9a2-517e-4269-a4d7-716dcd6ae969",
   "metadata": {},
   "source": [
    "Q5. Given a list my_list = [1, 2, 3, 4, 5], write the code to slice the list and obtain the sub-list [2, 3]. "
   ]
  },
  {
   "cell_type": "code",
   "execution_count": 6,
   "id": "968a30eb-9f19-4528-bd12-f12f7d8465e8",
   "metadata": {},
   "outputs": [
    {
     "name": "stdout",
     "output_type": "stream",
     "text": [
      "------------------------------\n",
      "Positive slicing: [2, 3]\n",
      "Negative slicing: [2, 3]\n",
      "------------------------------\n"
     ]
    }
   ],
   "source": [
    "my_list = [1,2,3,4,5]\n",
    "\n",
    "# To obtain the sub-list [2,3], we can use positive slicing as well as negative slicing\n",
    "print('-'*30)\n",
    "print('Positive slicing:',my_list[1:3])\n",
    "print('Negative slicing:',my_list[-4:-2])\n",
    "print('-'*30)"
   ]
  },
  {
   "cell_type": "markdown",
   "id": "b436bb79-fb9c-4beb-985d-cd95c9755ea0",
   "metadata": {},
   "source": [
    "Q6. What is a complex number in mathematics, and how is it represented in Python?"
   ]
  },
  {
   "cell_type": "code",
   "execution_count": 7,
   "id": "d69fc622-5a1e-4869-bc52-296aeb655be0",
   "metadata": {},
   "outputs": [
    {
     "name": "stdout",
     "output_type": "stream",
     "text": [
      "------------------------------------------------------------\n",
      "Complex number                                 : (5+7j)\n",
      "____________________________________________________________\n",
      "Real part of the above complex number is       : 5.0\n",
      "Imaginary part of the above complex number is  : 7.0\n",
      "------------------------------------------------------------\n"
     ]
    }
   ],
   "source": [
    "'''\n",
    "In mathematics, a complex number can be defined as a combination of two numbers where one number is real and one number is imaginary\n",
    "It is represented as 3 + 7i where 3 represents a real number and 7 represents an imaginary number\n",
    "\n",
    "In Python, a complex number is represented as 3 + 7j (The only difference in python is we use j instead of i for representing inaginary part)\n",
    "You can assign a variable to a complex number and by using inbuilt functions you can fetch real and imaginary part of that complex number\n",
    "'''\n",
    "\n",
    "# For Example:\n",
    "\n",
    "num = 5 + 7j\n",
    "print('-'*60)\n",
    "print('Complex number                                 :',num)\n",
    "print('_'*60)\n",
    "print('Real part of the above complex number is       :',num.real)\n",
    "print('Imaginary part of the above complex number is  :',num.imag)\n",
    "print('-'*60)"
   ]
  },
  {
   "cell_type": "markdown",
   "id": "eebb17f8-f1d8-412e-8415-94995c69ff9e",
   "metadata": {},
   "source": [
    "Q7. What is the correct way to declare a variable named age and assign the value 25 to it?"
   ]
  },
  {
   "cell_type": "code",
   "execution_count": 8,
   "id": "fd703e82-f902-43f8-992b-956a49e829c6",
   "metadata": {},
   "outputs": [
    {
     "name": "stdout",
     "output_type": "stream",
     "text": [
      "-----\n",
      "25\n",
      "-----\n"
     ]
    }
   ],
   "source": [
    "'''\n",
    "While assigning a variable to a data, following syntax is used:\n",
    "\n",
    "variable_name =  data\n",
    "\n",
    "Hence by following the above syntax we can write,\n",
    "'''\n",
    "\n",
    "age = 25\n",
    "print('-'*5)\n",
    "print(age)\n",
    "print('-'*5)"
   ]
  },
  {
   "cell_type": "markdown",
   "id": "c2db2d89-93d9-494f-a9c8-892f59eb5571",
   "metadata": {},
   "source": [
    "Q8. Declare a variable named price and assign the value 9.99 to it. What data type does this variable\n",
    "belong to?"
   ]
  },
  {
   "cell_type": "code",
   "execution_count": 9,
   "id": "60f2dc49-8b94-4f64-b8cc-2b84ea48e836",
   "metadata": {},
   "outputs": [
    {
     "name": "stdout",
     "output_type": "stream",
     "text": [
      "-----------------------------------------------------------------\n",
      "The variable \"price\" is declared with value : 9.99\n",
      "And it's associated data type is            : <class 'float'>\n",
      "-----------------------------------------------------------------\n"
     ]
    }
   ],
   "source": [
    "price = 9.99\n",
    "print('-'*65)\n",
    "print('The variable \"price\" is declared with value :',price)\n",
    "\n",
    "# Since there is a decimal present in the value, it's associated datatype will be float\n",
    "\n",
    "print(\"And it's associated data type is            :\",type(price))\n",
    "print('-'*65)"
   ]
  },
  {
   "cell_type": "markdown",
   "id": "cdaa189c-f853-452d-801f-e79b9db7bb85",
   "metadata": {},
   "source": [
    "Q9. Create a variable named name and assign your full name to it as a string. How would you print the\n",
    "value of this variable?"
   ]
  },
  {
   "cell_type": "code",
   "execution_count": 10,
   "id": "b304481e-4892-43b3-88cb-a1d45147aaf1",
   "metadata": {},
   "outputs": [
    {
     "name": "stdout",
     "output_type": "stream",
     "text": [
      "-----------------------------------------------------------------\n",
      "Variable name is created with value : Sanket Chander Gangwani\n",
      "And it's associated datatype is     : <class 'str'>\n",
      "_________________________________________________________________\n",
      "First name is                       : Sanket\n",
      "Middle name is                      : Chander\n",
      "Last name is                        : Gangwani\n",
      "-----------------------------------------------------------------\n"
     ]
    }
   ],
   "source": [
    "name = 'Sanket Chander Gangwani'\n",
    "print('-'*65)\n",
    "print('Variable name is created with value :',name)\n",
    "print(\"And it's associated datatype is     :\",type(name))\n",
    "\n",
    "# You can also fetch first name, middle name, and last name separately by:\n",
    "print('_'*65)\n",
    "print('First name is                       :',name.split(' ')[0])\n",
    "print('Middle name is                      :',name.split(' ')[1])\n",
    "print('Last name is                        :',name.split(' ')[2])\n",
    "print('-'*65)"
   ]
  },
  {
   "cell_type": "markdown",
   "id": "4c5499f4-63c6-45e0-92c1-cd131de52f98",
   "metadata": {
    "tags": []
   },
   "source": [
    "Q10. Given the string \"Hello, World!\", extract the substring \"World\". "
   ]
  },
  {
   "cell_type": "code",
   "execution_count": 11,
   "id": "f75c4b0b-f788-4d45-8a17-f6e5999cfa97",
   "metadata": {},
   "outputs": [
    {
     "name": "stdout",
     "output_type": "stream",
     "text": [
      "-----------------------------------\n",
      "Hence the sub-string is: World\n",
      "-----------------------------------\n"
     ]
    }
   ],
   "source": [
    "string = \"Hello, World!\" \n",
    "print('-'*35)\n",
    "print('Hence the sub-string is:',string[7:12])\n",
    "print('-'*35)"
   ]
  },
  {
   "cell_type": "markdown",
   "id": "39089b4b-8a6d-47ea-bf47-fbbfbc89676c",
   "metadata": {},
   "source": [
    "Q11. Create a variable named \"is_student\" and assign it a boolean value indicating whether you are\n",
    "currently a student or not.  "
   ]
  },
  {
   "cell_type": "code",
   "execution_count": 12,
   "id": "76b64957-68b3-4198-8100-483f43a84550",
   "metadata": {},
   "outputs": [],
   "source": [
    "is_student = False\n",
    "\n",
    "# Since I ahve completed my graduation, I've assigned False"
   ]
  }
 ],
 "metadata": {
  "kernelspec": {
   "display_name": "Python 3 (ipykernel)",
   "language": "python",
   "name": "python3"
  },
  "language_info": {
   "codemirror_mode": {
    "name": "ipython",
    "version": 3
   },
   "file_extension": ".py",
   "mimetype": "text/x-python",
   "name": "python",
   "nbconvert_exporter": "python",
   "pygments_lexer": "ipython3",
   "version": "3.10.8"
  }
 },
 "nbformat": 4,
 "nbformat_minor": 5
}
